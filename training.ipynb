{
  "nbformat": 4,
  "nbformat_minor": 0,
  "metadata": {
    "colab": {
      "provenance": [],
      "collapsed_sections": []
    },
    "kernelspec": {
      "name": "python3",
      "display_name": "Python 3"
    },
    "language_info": {
      "name": "python"
    }
  },
  "cells": [
    {
      "cell_type": "code",
      "execution_count": null,
      "metadata": {
        "colab": {
          "base_uri": "https://localhost:8080/"
        },
        "id": "ukSMsTp7U5lq",
        "outputId": "cad5da64-fe7f-4d01-de04-3e12e4d9fcae"
      },
      "outputs": [
        {
          "output_type": "stream",
          "name": "stdout",
          "text": [
            "30\n",
            "10\n",
            "SOMA = 40\n"
          ]
        }
      ],
      "source": [
        "R: float = float(input())\n",
        "n: float = 3.14159\n",
        "\n",
        "def main():\n",
        "    A: float = solve(R)\n",
        "    print(\"A=%0.4f\" %A)\n",
        "    \n",
        "    \n",
        "def solve(R: float) -> float:\n",
        "    return n * (R**2)\n",
        "    \n",
        "    \n",
        "if __name__ == '__main__':\n",
        "    main()\n"
      ]
    },
    {
      "cell_type": "code",
      "source": [
        "A: int = int(input())\n",
        "B: int = int(input())\n",
        "\n",
        "SOMA: int = A + B\n",
        "\n",
        "print(f'SOMA = {SOMA}')"
      ],
      "metadata": {
        "colab": {
          "base_uri": "https://localhost:8080/"
        },
        "id": "VKRm7DGcactN",
        "outputId": "e277c8cc-7d4f-478c-ef71-36f0eb83c5fe"
      },
      "execution_count": null,
      "outputs": [
        {
          "output_type": "stream",
          "name": "stdout",
          "text": [
            "30\n",
            "10\n",
            "SOMA = 40\n"
          ]
        }
      ]
    }
  ]
}