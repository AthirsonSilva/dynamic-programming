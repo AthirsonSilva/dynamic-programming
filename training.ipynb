{
  "nbformat": 4,
  "nbformat_minor": 0,
  "metadata": {
    "colab": {
      "provenance": [],
      "collapsed_sections": [],
      "include_colab_link": true
    },
    "kernelspec": {
      "name": "python3",
      "display_name": "Python 3"
    },
    "language_info": {
      "name": "python"
    }
  },
  "cells": [
    {
      "cell_type": "markdown",
      "metadata": {
        "id": "view-in-github",
        "colab_type": "text"
      },
      "source": [
        "<a href=\"https://colab.research.google.com/github/AthirsonSilva/dynamic-programming/blob/master/training.ipynb\" target=\"_parent\"><img src=\"https://colab.research.google.com/assets/colab-badge.svg\" alt=\"Open In Colab\"/></a>"
      ]
    },
    {
      "cell_type": "markdown",
      "source": [
        "## Area of a circle"
      ],
      "metadata": {
        "id": "RCLpY5jSd0Ua"
      }
    },
    {
      "cell_type": "code",
      "execution_count": null,
      "metadata": {
        "colab": {
          "base_uri": "https://localhost:8080/"
        },
        "id": "ukSMsTp7U5lq",
        "outputId": "cad5da64-fe7f-4d01-de04-3e12e4d9fcae"
      },
      "outputs": [
        {
          "output_type": "stream",
          "name": "stdout",
          "text": [
            "30\n",
            "10\n",
            "SOMA = 40\n"
          ]
        }
      ],
      "source": [
        "R: float = float(input())\n",
        "n: float = 3.14159\n",
        "\n",
        "def main():\n",
        "    A: float = solve(R)\n",
        "    print(\"A=%0.4f\" %A)\n",
        "    \n",
        "    \n",
        "def solve(R: float) -> float:\n",
        "    return n * (R**2)\n",
        "    \n",
        "    \n",
        "if __name__ == '__main__':\n",
        "    main()\n"
      ]
    },
    {
      "cell_type": "markdown",
      "source": [
        "## Simple sum"
      ],
      "metadata": {
        "id": "LIneuyg1d5Tx"
      }
    },
    {
      "cell_type": "code",
      "source": [
        "def main():\n",
        "  A: int = int(input())\n",
        "  B: int = int(input())\n",
        "\n",
        "  SOMA: int = solve(A, B)\n",
        "\n",
        "  print(f'SOMA = {SOMA}')\n",
        "\n",
        "\n",
        "def solve(A: int, B: int) -> int:\n",
        "  return int(A + B)\n",
        "\n",
        "if __name__ == '__main__':\n",
        "  main()"
      ],
      "metadata": {
        "colab": {
          "base_uri": "https://localhost:8080/"
        },
        "id": "VKRm7DGcactN",
        "outputId": "97870f9b-ab3c-46b5-b8cd-1b9e5b75b63f"
      },
      "execution_count": 2,
      "outputs": [
        {
          "output_type": "stream",
          "name": "stdout",
          "text": [
            "30\n",
            "10\n",
            "SOMA = 40\n"
          ]
        }
      ]
    },
    {
      "cell_type": "markdown",
      "source": [
        "## Simple product"
      ],
      "metadata": {
        "id": "3265FMXMd9yY"
      }
    },
    {
      "cell_type": "code",
      "source": [
        "def main():\n",
        "  A: int = int(input())\n",
        "  B: int = int(input())\n",
        "\n",
        "  Product: int = solve(A, B)\n",
        "\n",
        "  print(f'PROD = {Product}')\n",
        "\n",
        "def solve(A: int, B: int) -> int:\n",
        "  return int(A * B)\n",
        "\n",
        "\n",
        "if __name__ == '__main__':\n",
        "  main()"
      ],
      "metadata": {
        "colab": {
          "base_uri": "https://localhost:8080/"
        },
        "id": "IwFDvbfAeBR6",
        "outputId": "51b10a36-7159-4e71-d271-7f6ae39dbf27"
      },
      "execution_count": 6,
      "outputs": [
        {
          "output_type": "stream",
          "name": "stdout",
          "text": [
            "3\n",
            "9\n",
            "PROD = 27\n"
          ]
        }
      ]
    },
    {
      "cell_type": "markdown",
      "source": [
        "## Simple Average "
      ],
      "metadata": {
        "id": "cQgQGP03fv38"
      }
    },
    {
      "cell_type": "code",
      "source": [
        "def main():\n",
        "  A: float = float(input())\n",
        "  B: float = float(input())\n",
        "\n",
        "  MEDIA: float = solve(A, B)\n",
        "\n",
        "  print('MEDIA = %0.5f' %MEDIA)\n",
        "\n",
        "\n",
        "def solve(A: float, B: float) -> float:\n",
        "  return float((A + B) / 2)\n",
        "\n",
        "\n",
        "if __name__ == '__main__':\n",
        "  main()"
      ],
      "metadata": {
        "id": "RQUaL0FLfz-x",
        "outputId": "1605a041-12e0-4df6-c157-fcc3d9af61e6",
        "colab": {
          "base_uri": "https://localhost:8080/"
        }
      },
      "execution_count": 17,
      "outputs": [
        {
          "output_type": "stream",
          "name": "stdout",
          "text": [
            "5.0\n",
            "7.1\n",
            "MEDIA = 6.05000\n"
          ]
        }
      ]
    },
    {
      "cell_type": "code",
      "source": [],
      "metadata": {
        "id": "Tmcgyh30gBLa"
      },
      "execution_count": null,
      "outputs": []
    }
  ]
}