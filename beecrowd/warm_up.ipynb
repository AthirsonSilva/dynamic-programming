{
 "cells": [
  {
   "cell_type": "markdown",
   "metadata": {
    "id": "RCLpY5jSd0Ua"
   },
   "source": [
    "## Area of a circle"
   ]
  },
  {
   "cell_type": "code",
   "execution_count": null,
   "metadata": {
    "colab": {
     "base_uri": "https://localhost:8080/"
    },
    "id": "ukSMsTp7U5lq",
    "outputId": "cad5da64-fe7f-4d01-de04-3e12e4d9fcae"
   },
   "outputs": [
    {
     "name": "stdout",
     "output_type": "stream",
     "text": [
      "30\n",
      "10\n",
      "SOMA = 40\n"
     ]
    }
   ],
   "source": [
    "R: float = float(input())\n",
    "n: float = 3.14159\n",
    "\n",
    "def main():\n",
    "    A: float = solve(R)\n",
    "    print(\"A=%0.4f\" %A)\n",
    "    \n",
    "    \n",
    "def solve(R: float) -> float:\n",
    "    return n * (R**2)\n",
    "    \n",
    "    \n",
    "if __name__ == '__main__':\n",
    "    main()\n"
   ]
  },
  {
   "cell_type": "markdown",
   "metadata": {},
   "source": [
    "## Liquid salary"
   ]
  },
  {
   "cell_type": "code",
   "execution_count": 14,
   "metadata": {},
   "outputs": [
    {
     "name": "stdout",
     "output_type": "stream",
     "text": [
      "48000.0\n",
      "8\n",
      "37440.0\n"
     ]
    }
   ],
   "source": [
    "def main():\n",
    "    v: float = float(input())\n",
    "    a: int = int(input())\n",
    "\n",
    "    print(solve(v, a))\n",
    "\n",
    "\n",
    "def solve(v: float, a: int) -> float:\n",
    "    s: float = a * v\n",
    "    print(s)\n",
    "    \n",
    "    if s <= 1_212:\n",
    "        print(1)\n",
    "        return float(s * 0.75)\n",
    "    \n",
    "    elif s <= 2_427.35:\n",
    "        print(2)\n",
    "        return float(s * 0.9)\n",
    "    \n",
    "    elif s <= 3_641.03:\n",
    "        print(3)\n",
    "        return float(s * 1.2)\n",
    "    \n",
    "    elif s <= 7_087.23:\n",
    "        print(4)\n",
    "        return float(s * 1.4)\n",
    "    \n",
    "    elif s <= 12_136.80:\n",
    "        print(5)\n",
    "        return float(s * 1.45)\n",
    "    \n",
    "    elif s <= 24_273.58:\n",
    "        print(6)\n",
    "        return float(s * 1.65)\n",
    "    \n",
    "    elif s <= 47_33.46:\n",
    "        print(7)\n",
    "        return float(s * 1.9)\n",
    "    \n",
    "    print(8)\n",
    "    return float(s - (s * 0.22))\n",
    "    \n",
    "\n",
    "\n",
    "if __name__ == '__main__':\n",
    "    main()"
   ]
  },
  {
   "cell_type": "markdown",
   "metadata": {},
   "source": [
    "## Palindromo"
   ]
  },
  {
   "cell_type": "code",
   "execution_count": 9,
   "metadata": {},
   "outputs": [
    {
     "name": "stdout",
     "output_type": "stream",
     "text": [
      "Reverse = uzlizA\n",
      "Normal = Azilzu\n",
      "Não é palíndromo\n"
     ]
    }
   ],
   "source": [
    "def main():\n",
    "    s: str = str(input())\n",
    "\n",
    "    print(solve(s))\n",
    "\n",
    "\n",
    "def solve(s: str) -> str:\n",
    "    r: str = str(s[::-1])\n",
    "    print(f'Reverse = {r}')\n",
    "    print(f'Normal = {s}')\n",
    "\n",
    "    if r == s:\n",
    "        return 'Palíndromo'\n",
    "\n",
    "    return 'Não é palíndromo'\n",
    "\n",
    "\n",
    "if __name__ == '__main__':\n",
    "    main()\n"
   ]
  },
  {
   "cell_type": "markdown",
   "metadata": {},
   "source": [
    "## Profit loop"
   ]
  },
  {
   "cell_type": "code",
   "execution_count": 18,
   "metadata": {},
   "outputs": [
    {
     "name": "stdout",
     "output_type": "stream",
     "text": [
      "150.0\n",
      "1100.0\n"
     ]
    }
   ],
   "source": [
    "def main():\n",
    "    while True:\n",
    "        p: float = float(input())\n",
    "        l: float = float(input())\n",
    "\n",
    "        print(solve(p, l))\n",
    "\n",
    "        try:\n",
    "            q: str = str(input('Continue? [y/ n]').lower())\n",
    "\n",
    "            if str(q) == 'n':\n",
    "                break\n",
    "            \n",
    "        except:\n",
    "            print('Invalid answer')\n",
    "\n",
    "\n",
    "def solve(p: float, l: float) -> float:\n",
    "    return float(p + (p * (l / 100)))\n",
    "\n",
    "\n",
    "if __name__ == '__main__':\n",
    "    main()"
   ]
  },
  {
   "cell_type": "markdown",
   "metadata": {},
   "source": [
    "## Arrays sum"
   ]
  },
  {
   "cell_type": "code",
   "execution_count": 2,
   "metadata": {},
   "outputs": [
    {
     "name": "stdout",
     "output_type": "stream",
     "text": [
      "2 4 6 8 10 12 14 16 18 0\n"
     ]
    }
   ],
   "source": [
    "def main():\n",
    "    a: list[int] = [int(input()) for i in range(0, 10)]\n",
    "    b: list[int] = [int(input()) for i in range(0, 10)]\n",
    "\n",
    "    print(*(x for x in solve(a, b)))\n",
    "\n",
    "\n",
    "def solve(a: list[int], b: list[int]) -> list[int]:\n",
    "    zipped: zip[tuple[int, int]] = zip(a, b)    \n",
    "\n",
    "        \n",
    "    return [x + y for (x, y) in zipped]\n",
    "\n",
    "\n",
    "if __name__ == '__main__':\n",
    "    main()"
   ]
  },
  {
   "cell_type": "markdown",
   "metadata": {},
   "source": [
    "## Divisible by 8"
   ]
  },
  {
   "cell_type": "code",
   "execution_count": 6,
   "metadata": {},
   "outputs": [
    {
     "name": "stdout",
     "output_type": "stream",
     "text": [
      "8 16 24 32 40 48 56 64 72 80 88 96 104 112 120 128 136 144 152 160 168 176 184 192 200 208 216 224 232 240 248 256 264 272 280 288 296 304 312 320 328 336 344 352 360 368 376 384 392 400 408 416 424 432 440 448 456 464 472 480 488 496 504 512 520 528 536 544 552 560 568 576 584 592 600 608 616 624 632 640 648 656 664 672 680 688 696 704 712 720 728 736 744 752 760 768 776 784 792 800 808 816 824 832 840 848 856 864 872 880 888 896 904 912 920 928 936 944 952 960 968 976 984 992 1000\n"
     ]
    }
   ],
   "source": [
    "def main():\n",
    "    nums: list[int] = [i for i in range(1, 1001)]\n",
    "    \n",
    "    print(*(x for x in solve(nums)))\n",
    "\n",
    "\n",
    "def solve(nums: list[int]) -> list[int]:\n",
    "    return [num for num in nums if num % 8 == 0]\n",
    "\n",
    "\n",
    "\n",
    "if __name__ == '__main__':\n",
    "    main()\n",
    "    "
   ]
  },
  {
   "cell_type": "markdown",
   "metadata": {},
   "source": [
    "## Contains a 6"
   ]
  },
  {
   "cell_type": "code",
   "execution_count": 10,
   "metadata": {},
   "outputs": [
    {
     "name": "stdout",
     "output_type": "stream",
     "text": [
      "16 26 36 46 56 76 86 96 160 161 162 163 164 165 166 167 168 169 260 261 262 263 264 265 266 267 268 269 360 361 362 363 364 365 366 367 368 369 460 461 462 463 464 465 466 467 468 469 560 561 562 563 564 565 566 567 568 569 760 761 762 763 764 765 766 767 768 769 860 861 862 863 864 865 866 867 868 869 960 961 962 963 964 965 966 967 968 969\n"
     ]
    }
   ],
   "source": [
    "def main():\n",
    "    ns: list[int] = [x for x in range(1, 1001)]\n",
    "\n",
    "    print(*solve(ns))\n",
    "\n",
    "def solve(ns: list[int]) -> list[int]:\n",
    "    return [n for n in ns if str(n).find('6') == True]\n",
    "\n",
    "\n",
    "if __name__ == '__main__':\n",
    "    main()"
   ]
  }
 ],
 "metadata": {
  "kernelspec": {
   "display_name": "Python 3.10.6 ('.venv': venv)",
   "language": "python",
   "name": "python3"
  },
  "language_info": {
   "codemirror_mode": {
    "name": "ipython",
    "version": 3
   },
   "file_extension": ".py",
   "mimetype": "text/x-python",
   "name": "python",
   "nbconvert_exporter": "python",
   "pygments_lexer": "ipython3",
   "version": "3.10.6"
  },
  "orig_nbformat": 4,
  "vscode": {
   "interpreter": {
    "hash": "5438d4a915159542cdaf5163abb1f3ba3a1047d68acbee3d0af5d2c36a606fd8"
   }
  }
 },
 "nbformat": 4,
 "nbformat_minor": 2
}
