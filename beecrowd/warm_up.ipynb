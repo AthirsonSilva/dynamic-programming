{
 "cells": [
  {
   "cell_type": "markdown",
   "metadata": {
    "id": "RCLpY5jSd0Ua"
   },
   "source": [
    "## Area of a circle"
   ]
  },
  {
   "cell_type": "code",
   "execution_count": null,
   "metadata": {
    "colab": {
     "base_uri": "https://localhost:8080/"
    },
    "id": "ukSMsTp7U5lq",
    "outputId": "cad5da64-fe7f-4d01-de04-3e12e4d9fcae"
   },
   "outputs": [
    {
     "name": "stdout",
     "output_type": "stream",
     "text": [
      "30\n",
      "10\n",
      "SOMA = 40\n"
     ]
    }
   ],
   "source": [
    "R: float = float(input())\n",
    "n: float = 3.14159\n",
    "\n",
    "def main():\n",
    "    A: float = solve(R)\n",
    "    print(\"A=%0.4f\" %A)\n",
    "    \n",
    "    \n",
    "def solve(R: float) -> float:\n",
    "    return n * (R**2)\n",
    "    \n",
    "    \n",
    "if __name__ == '__main__':\n",
    "    main()\n"
   ]
  },
  {
   "cell_type": "markdown",
   "metadata": {},
   "source": [
    "## Liquid salary"
   ]
  },
  {
   "cell_type": "code",
   "execution_count": 14,
   "metadata": {},
   "outputs": [
    {
     "name": "stdout",
     "output_type": "stream",
     "text": [
      "48000.0\n",
      "8\n",
      "37440.0\n"
     ]
    }
   ],
   "source": [
    "def main():\n",
    "    v: float = float(input())\n",
    "    a: int = int(input())\n",
    "\n",
    "    print(solve(v, a))\n",
    "\n",
    "\n",
    "def solve(v: float, a: int) -> float:\n",
    "    s: float = a * v\n",
    "    print(s)\n",
    "    \n",
    "    if s <= 1_212:\n",
    "        print(1)\n",
    "        return float(s * 0.75)\n",
    "    \n",
    "    elif s <= 2_427.35:\n",
    "        print(2)\n",
    "        return float(s * 0.9)\n",
    "    \n",
    "    elif s <= 3_641.03:\n",
    "        print(3)\n",
    "        return float(s * 1.2)\n",
    "    \n",
    "    elif s <= 7_087.23:\n",
    "        print(4)\n",
    "        return float(s * 1.4)\n",
    "    \n",
    "    elif s <= 12_136.80:\n",
    "        print(5)\n",
    "        return float(s * 1.45)\n",
    "    \n",
    "    elif s <= 24_273.58:\n",
    "        print(6)\n",
    "        return float(s * 1.65)\n",
    "    \n",
    "    elif s <= 47_33.46:\n",
    "        print(7)\n",
    "        return float(s * 1.9)\n",
    "    \n",
    "    print(8)\n",
    "    return float(s - (s * 0.22))\n",
    "    \n",
    "\n",
    "\n",
    "if __name__ == '__main__':\n",
    "    main()"
   ]
  },
  {
   "cell_type": "markdown",
   "metadata": {},
   "source": [
    "## Palindromo"
   ]
  },
  {
   "cell_type": "code",
   "execution_count": 9,
   "metadata": {},
   "outputs": [
    {
     "name": "stdout",
     "output_type": "stream",
     "text": [
      "Reverse = uzlizA\n",
      "Normal = Azilzu\n",
      "Não é palíndromo\n"
     ]
    }
   ],
   "source": [
    "def main():\n",
    "    s: str = str(input())\n",
    "\n",
    "    print(solve(s))\n",
    "\n",
    "\n",
    "def solve(s: str) -> str:\n",
    "    r: str = str(s[::-1])\n",
    "    print(f'Reverse = {r}')\n",
    "    print(f'Normal = {s}')\n",
    "\n",
    "    if r == s:\n",
    "        return 'Palíndromo'\n",
    "\n",
    "    return 'Não é palíndromo'\n",
    "\n",
    "\n",
    "if __name__ == '__main__':\n",
    "    main()\n"
   ]
  },
  {
   "cell_type": "markdown",
   "metadata": {},
   "source": [
    "## Profit loop"
   ]
  },
  {
   "cell_type": "code",
   "execution_count": 18,
   "metadata": {},
   "outputs": [
    {
     "name": "stdout",
     "output_type": "stream",
     "text": [
      "150.0\n",
      "1100.0\n"
     ]
    }
   ],
   "source": [
    "def main():\n",
    "    while True:\n",
    "        p: float = float(input())\n",
    "        l: float = float(input())\n",
    "\n",
    "        print(solve(p, l))\n",
    "\n",
    "        try:\n",
    "            q: str = str(input('Continue? [y/ n]').lower())\n",
    "\n",
    "            if str(q) == 'n':\n",
    "                break\n",
    "            \n",
    "        except:\n",
    "            print('Invalid answer')\n",
    "\n",
    "\n",
    "def solve(p: float, l: float) -> float:\n",
    "    return float(p + (p * (l / 100)))\n",
    "\n",
    "\n",
    "if __name__ == '__main__':\n",
    "    main()"
   ]
  },
  {
   "cell_type": "markdown",
   "metadata": {},
   "source": [
    "## Arrays sum"
   ]
  },
  {
   "cell_type": "code",
   "execution_count": null,
   "metadata": {},
   "outputs": [],
   "source": [
    "def main():\n",
    "    pass\n",
    "\n",
    "\n",
    "def solve():\n",
    "    return \n",
    "\n",
    "\n",
    "if __name__ == '__main__':\n",
    "    main()"
   ]
  }
 ],
 "metadata": {
  "kernelspec": {
   "display_name": "Python 3.10.6 ('.venv': venv)",
   "language": "python",
   "name": "python3"
  },
  "language_info": {
   "codemirror_mode": {
    "name": "ipython",
    "version": 3
   },
   "file_extension": ".py",
   "mimetype": "text/x-python",
   "name": "python",
   "nbconvert_exporter": "python",
   "pygments_lexer": "ipython3",
   "version": "3.10.6"
  },
  "orig_nbformat": 4,
  "vscode": {
   "interpreter": {
    "hash": "5438d4a915159542cdaf5163abb1f3ba3a1047d68acbee3d0af5d2c36a606fd8"
   }
  }
 },
 "nbformat": 4,
 "nbformat_minor": 2
}
