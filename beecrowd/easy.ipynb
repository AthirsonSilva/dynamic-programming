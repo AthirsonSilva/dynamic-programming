{
  "cells": [
    {
      "cell_type": "markdown",
      "metadata": {
        "colab_type": "text",
        "id": "view-in-github"
      },
      "source": [
        "<a href=\"https://colab.research.google.com/github/AthirsonSilva/dynamic-programming/blob/master/training.ipynb\" target=\"_parent\"><img src=\"https://colab.research.google.com/assets/colab-badge.svg\" alt=\"Open In Colab\"/></a>"
      ]
    },
    {
      "cell_type": "markdown",
      "metadata": {
        "id": "LIneuyg1d5Tx"
      },
      "source": [
        "## Simple sum"
      ]
    },
    {
      "cell_type": "code",
      "execution_count": 2,
      "metadata": {
        "colab": {
          "base_uri": "https://localhost:8080/"
        },
        "id": "VKRm7DGcactN",
        "outputId": "97870f9b-ab3c-46b5-b8cd-1b9e5b75b63f"
      },
      "outputs": [
        {
          "name": "stdout",
          "output_type": "stream",
          "text": [
            "30\n",
            "10\n",
            "SOMA = 40\n"
          ]
        }
      ],
      "source": [
        "def main():\n",
        "  A: int = int(input())\n",
        "  B: int = int(input())\n",
        "\n",
        "  SOMA: int = solve(A, B)\n",
        "\n",
        "  print(f'SOMA = {SOMA}')\n",
        "\n",
        "\n",
        "def solve(A: int, B: int) -> int:\n",
        "  return int(A + B)\n",
        "\n",
        "if __name__ == '__main__':\n",
        "  main()"
      ]
    },
    {
      "cell_type": "markdown",
      "metadata": {
        "id": "3265FMXMd9yY"
      },
      "source": [
        "## Simple product"
      ]
    },
    {
      "cell_type": "code",
      "execution_count": 6,
      "metadata": {
        "colab": {
          "base_uri": "https://localhost:8080/"
        },
        "id": "IwFDvbfAeBR6",
        "outputId": "51b10a36-7159-4e71-d271-7f6ae39dbf27"
      },
      "outputs": [
        {
          "name": "stdout",
          "output_type": "stream",
          "text": [
            "3\n",
            "9\n",
            "PROD = 27\n"
          ]
        }
      ],
      "source": [
        "def main():\n",
        "  A: int = int(input())\n",
        "  B: int = int(input())\n",
        "\n",
        "  Product: int = solve(A, B)\n",
        "\n",
        "  print(f'PROD = {Product}')\n",
        "\n",
        "def solve(A: int, B: int) -> int:\n",
        "  return int(A * B)\n",
        "\n",
        "\n",
        "if __name__ == '__main__':\n",
        "  main()"
      ]
    },
    {
      "cell_type": "markdown",
      "metadata": {
        "id": "cQgQGP03fv38"
      },
      "source": [
        "## Simple Average I"
      ]
    },
    {
      "cell_type": "code",
      "execution_count": 29,
      "metadata": {
        "colab": {
          "base_uri": "https://localhost:8080/"
        },
        "id": "RQUaL0FLfz-x",
        "outputId": "1605a041-12e0-4df6-c157-fcc3d9af61e6"
      },
      "outputs": [
        {
          "name": "stdout",
          "output_type": "stream",
          "text": [
            "MEDIA = 6.43182\n"
          ]
        }
      ],
      "source": [
        "def main():\n",
        "  A, B = map(float, input().split())\n",
        "\n",
        "  AVG: float = solve(A, B)\n",
        "\n",
        "  print('MEDIA = %0.5f' %AVG)\n",
        "\n",
        "\n",
        "def solve(A: float, B: float) -> float:\n",
        "  return float(((A * 3.5) + (B * 7.5)) / (3.5 + 7.5))\n",
        "\n",
        "\n",
        "if __name__ == '__main__':\n",
        "  main()"
      ]
    },
    {
      "cell_type": "markdown",
      "metadata": {},
      "source": [
        "## Simple Average II"
      ]
    },
    {
      "cell_type": "code",
      "execution_count": 25,
      "metadata": {
        "id": "Tmcgyh30gBLa"
      },
      "outputs": [
        {
          "name": "stdout",
          "output_type": "stream",
          "text": [
            "MEDIA = 6.3\n"
          ]
        }
      ],
      "source": [
        "def main():\n",
        "    a, b, c = map(float, input().split())\n",
        "    \n",
        "    result = solve(a, b, c)\n",
        "    \n",
        "    print('MEDIA = %0.1f' %result)\n",
        "    \n",
        "    \n",
        "def solve(a: float, b: float, c: float) -> float:\n",
        "    return float((a * 2 + b * 3 + c * 5) / (2 + 3 + 5))\n",
        "\n",
        "\n",
        "if __name__ == '__main__':\n",
        "    main()"
      ]
    },
    {
      "cell_type": "markdown",
      "metadata": {},
      "source": [
        "## Difference"
      ]
    },
    {
      "cell_type": "code",
      "execution_count": 3,
      "metadata": {},
      "outputs": [
        {
          "name": "stdout",
          "output_type": "stream",
          "text": [
            "DIFERENCA = 86\n"
          ]
        }
      ],
      "source": [
        "def main():\n",
        "    a: int = int(input())\n",
        "    b: int = int(input())\n",
        "    c: int = int(input())\n",
        "    d: int = int(input())\n",
        "    \n",
        "    result: int = solve(a, b, c, d) \n",
        "\n",
        "    print('DIFERENCA = %i' %result)\n",
        " \n",
        "def solve(a: int, b: int, c: int, d: int) -> int:\n",
        "    return int((a * b) - (c * d))\n",
        "\n",
        "\n",
        "if __name__ == '__main__':\n",
        "    main()"
      ]
    },
    {
      "cell_type": "markdown",
      "metadata": {},
      "source": [
        "## Salary"
      ]
    },
    {
      "cell_type": "code",
      "execution_count": 14,
      "metadata": {},
      "outputs": [
        {
          "name": "stdout",
          "output_type": "stream",
          "text": [
            "NUMBER = 25\n",
            "SALARY = U$ 550.00\n"
          ]
        }
      ],
      "source": [
        "def main():\n",
        "    a: int = int(input())\n",
        "    b: int = int(input())\n",
        "    c: float = float(input())\n",
        "\n",
        "    r: dict = solve(a, b, c)\n",
        "\n",
        "    print('NUMBER = %i' %r['number'])\n",
        "    print('SALARY = U$ %0.2f' %r['salary'])\n",
        "\n",
        "\n",
        "def solve(a: int, b: int, c: float) -> dict:\n",
        "    r: dict = {\n",
        "        'number': a,\n",
        "        'salary': round(float(b * c), 2)\n",
        "    }  \n",
        "    \n",
        "    return r\n",
        "\n",
        "\n",
        "if __name__ == '__main__':\n",
        "    main()"
      ]
    },
    {
      "cell_type": "markdown",
      "metadata": {},
      "source": [
        "## Salary with bonus"
      ]
    },
    {
      "cell_type": "code",
      "execution_count": 17,
      "metadata": {},
      "outputs": [
        {
          "name": "stdout",
          "output_type": "stream",
          "text": [
            "TOTAL = R$ 684.54\n"
          ]
        }
      ],
      "source": [
        "def main():\n",
        "    n: str = str(input())\n",
        "    f: float = float(input())\n",
        "    s: float = float(input())\n",
        "    \n",
        "    \n",
        "    r: float = solve(f, s)\n",
        "\n",
        "    print('TOTAL = R$ %0.2f' %r)\n",
        "\n",
        "\n",
        "def solve(f: float, s: float) -> float:\n",
        "    t: float = (s * 0.15) + f\n",
        "    \n",
        "    return t\n",
        "\n",
        "\n",
        "if __name__ == '__main__':\n",
        "    main()"
      ]
    },
    {
      "cell_type": "markdown",
      "metadata": {},
      "source": [
        "## Simple calculate"
      ]
    },
    {
      "cell_type": "code",
      "execution_count": null,
      "metadata": {},
      "outputs": [],
      "source": [
        "def main():\n",
        "    pass\n",
        "\n",
        "\n",
        "def solve():\n",
        "    return \n",
        "\n",
        "\n",
        "if __name__ == '__main__':\n",
        "    main()"
      ]
    },
    {
      "cell_type": "code",
      "execution_count": null,
      "metadata": {},
      "outputs": [],
      "source": []
    }
  ],
  "metadata": {
    "colab": {
      "collapsed_sections": [],
      "include_colab_link": true,
      "provenance": []
    },
    "kernelspec": {
      "display_name": "Python 3.10.6 64-bit",
      "language": "python",
      "name": "python3"
    },
    "language_info": {
      "codemirror_mode": {
        "name": "ipython",
        "version": 3
      },
      "file_extension": ".py",
      "mimetype": "text/x-python",
      "name": "python",
      "nbconvert_exporter": "python",
      "pygments_lexer": "ipython3",
      "version": "3.10.6"
    },
    "vscode": {
      "interpreter": {
        "hash": "916dbcbb3f70747c44a77c7bcd40155683ae19c65e1c03b4aa3499c5328201f1"
      }
    }
  },
  "nbformat": 4,
  "nbformat_minor": 0
}
