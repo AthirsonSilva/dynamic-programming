{
  "cells": [
    {
      "cell_type": "markdown",
      "metadata": {
        "colab_type": "text",
        "id": "view-in-github"
      },
      "source": [
        "<a href=\"https://colab.research.google.com/github/AthirsonSilva/dynamic-programming/blob/master/training.ipynb\" target=\"_parent\"><img src=\"https://colab.research.google.com/assets/colab-badge.svg\" alt=\"Open In Colab\"/></a>"
      ]
    },
    {
      "cell_type": "markdown",
      "metadata": {
        "id": "RCLpY5jSd0Ua"
      },
      "source": [
        "## Area of a circle"
      ]
    },
    {
      "cell_type": "code",
      "execution_count": 107,
      "metadata": {},
      "outputs": [
        {
          "name": "stdout",
          "output_type": "stream",
          "text": [
            "Defaulting to user installation because normal site-packages is not writeable\n",
            "Collecting pandas\n",
            "  Using cached pandas-1.5.0-cp310-cp310-manylinux_2_17_x86_64.manylinux2014_x86_64.whl (12.1 MB)\n",
            "Requirement already satisfied: pytz>=2020.1 in /usr/lib/python3/dist-packages (from pandas) (2022.1)\n",
            "Collecting numpy>=1.21.0\n",
            "  Using cached numpy-1.23.3-cp310-cp310-manylinux_2_17_x86_64.manylinux2014_x86_64.whl (17.1 MB)\n",
            "Requirement already satisfied: python-dateutil>=2.8.1 in /home/athirson/.local/lib/python3.10/site-packages (from pandas) (2.8.2)\n",
            "Requirement already satisfied: six>=1.5 in /usr/lib/python3/dist-packages (from python-dateutil>=2.8.1->pandas) (1.16.0)\n",
            "Installing collected packages: numpy, pandas\n",
            "\u001b[33m  WARNING: The scripts f2py, f2py3 and f2py3.10 are installed in '/home/athirson/.local/bin' which is not on PATH.\n",
            "  Consider adding this directory to PATH or, if you prefer to suppress this warning, use --no-warn-script-location.\u001b[0m\u001b[33m\n",
            "\u001b[0mSuccessfully installed numpy-1.23.3 pandas-1.5.0\n"
          ]
        }
      ],
      "source": [
        "!pip install pandas\n",
        "import pandas as pd"
      ]
    },
    {
      "cell_type": "code",
      "execution_count": null,
      "metadata": {
        "colab": {
          "base_uri": "https://localhost:8080/"
        },
        "id": "ukSMsTp7U5lq",
        "outputId": "cad5da64-fe7f-4d01-de04-3e12e4d9fcae"
      },
      "outputs": [
        {
          "name": "stdout",
          "output_type": "stream",
          "text": [
            "30\n",
            "10\n",
            "SOMA = 40\n"
          ]
        }
      ],
      "source": [
        "R: float = float(input())\n",
        "n: float = 3.14159\n",
        "\n",
        "def main():\n",
        "    A: float = solve(R)\n",
        "    print(\"A=%0.4f\" %A)\n",
        "    \n",
        "    \n",
        "def solve(R: float) -> float:\n",
        "    return n * (R**2)\n",
        "    \n",
        "    \n",
        "if __name__ == '__main__':\n",
        "    main()\n"
      ]
    },
    {
      "cell_type": "markdown",
      "metadata": {
        "id": "LIneuyg1d5Tx"
      },
      "source": [
        "## Simple sum"
      ]
    },
    {
      "cell_type": "code",
      "execution_count": 2,
      "metadata": {
        "colab": {
          "base_uri": "https://localhost:8080/"
        },
        "id": "VKRm7DGcactN",
        "outputId": "97870f9b-ab3c-46b5-b8cd-1b9e5b75b63f"
      },
      "outputs": [
        {
          "name": "stdout",
          "output_type": "stream",
          "text": [
            "30\n",
            "10\n",
            "SOMA = 40\n"
          ]
        }
      ],
      "source": [
        "def main():\n",
        "  A: int = int(input())\n",
        "  B: int = int(input())\n",
        "\n",
        "  SOMA: int = solve(A, B)\n",
        "\n",
        "  print(f'SOMA = {SOMA}')\n",
        "\n",
        "\n",
        "def solve(A: int, B: int) -> int:\n",
        "  return int(A + B)\n",
        "\n",
        "if __name__ == '__main__':\n",
        "  main()"
      ]
    },
    {
      "cell_type": "markdown",
      "metadata": {
        "id": "3265FMXMd9yY"
      },
      "source": [
        "## Simple product"
      ]
    },
    {
      "cell_type": "code",
      "execution_count": 6,
      "metadata": {
        "colab": {
          "base_uri": "https://localhost:8080/"
        },
        "id": "IwFDvbfAeBR6",
        "outputId": "51b10a36-7159-4e71-d271-7f6ae39dbf27"
      },
      "outputs": [
        {
          "name": "stdout",
          "output_type": "stream",
          "text": [
            "3\n",
            "9\n",
            "PROD = 27\n"
          ]
        }
      ],
      "source": [
        "def main():\n",
        "  A: int = int(input())\n",
        "  B: int = int(input())\n",
        "\n",
        "  Product: int = solve(A, B)\n",
        "\n",
        "  print(f'PROD = {Product}')\n",
        "\n",
        "def solve(A: int, B: int) -> int:\n",
        "  return int(A * B)\n",
        "\n",
        "\n",
        "if __name__ == '__main__':\n",
        "  main()"
      ]
    },
    {
      "cell_type": "markdown",
      "metadata": {
        "id": "cQgQGP03fv38"
      },
      "source": [
        "## Simple Average I"
      ]
    },
    {
      "cell_type": "code",
      "execution_count": 29,
      "metadata": {
        "colab": {
          "base_uri": "https://localhost:8080/"
        },
        "id": "RQUaL0FLfz-x",
        "outputId": "1605a041-12e0-4df6-c157-fcc3d9af61e6"
      },
      "outputs": [
        {
          "name": "stdout",
          "output_type": "stream",
          "text": [
            "MEDIA = 6.43182\n"
          ]
        }
      ],
      "source": [
        "def main():\n",
        "  A, B = map(float, input().split())\n",
        "\n",
        "  AVG: float = solve(A, B)\n",
        "\n",
        "  print('MEDIA = %0.5f' %AVG)\n",
        "\n",
        "\n",
        "def solve(A: float, B: float) -> float:\n",
        "  return float(((A * 3.5) + (B * 7.5)) / (3.5 + 7.5))\n",
        "\n",
        "\n",
        "if __name__ == '__main__':\n",
        "  main()"
      ]
    },
    {
      "cell_type": "markdown",
      "metadata": {},
      "source": [
        "## Simple Average II"
      ]
    },
    {
      "cell_type": "code",
      "execution_count": 25,
      "metadata": {
        "id": "Tmcgyh30gBLa"
      },
      "outputs": [
        {
          "name": "stdout",
          "output_type": "stream",
          "text": [
            "MEDIA = 6.3\n"
          ]
        }
      ],
      "source": [
        "def main():\n",
        "    a, b, c = map(float, input().split())\n",
        "    \n",
        "    result = solve(a, b, c)\n",
        "    \n",
        "    print('MEDIA = %0.1f' %result)\n",
        "    \n",
        "    \n",
        "def solve(a: float, b: float, c: float) -> float:\n",
        "    return float((a * 2 + b * 3 + c * 5) / (2 + 3 + 5))\n",
        "\n",
        "\n",
        "if __name__ == '__main__':\n",
        "    main()"
      ]
    },
    {
      "cell_type": "markdown",
      "metadata": {},
      "source": [
        "## Difference"
      ]
    },
    {
      "cell_type": "code",
      "execution_count": null,
      "metadata": {},
      "outputs": [],
      "source": []
    },
    {
      "cell_type": "markdown",
      "metadata": {},
      "source": [
        "K = [a, b, c, d]\n",
        "N = 9\n",
        "\n",
        "abcddcbaa\n",
        "\n",
        "K = [a, b, c, d, e]\n",
        "N = 29\n",
        "\n",
        "abcdeedbca\n",
        "\n",
        "K = [a, b, c, d]\n",
        "N = 33"
      ]
    },
    {
      "cell_type": "code",
      "execution_count": 2,
      "metadata": {},
      "outputs": [
        {
          "name": "stdout",
          "output_type": "stream",
          "text": [
            "4 9\n",
            "5 27\n",
            "6 33\n"
          ]
        }
      ],
      "source": [
        "def main():\n",
        "    k: list[int] = [4, 5, 6]\n",
        "    n: list[int] = [9, 27, 33]\n",
        "    \n",
        "    for i in range(3):\n",
        "        print(k[i], n[i], solve(k[i], n[i]))\n",
        "    \n",
        "    \n",
        "def solve(k: int, n: int) -> int:\n",
        "    \n",
        "    \n",
        "    return int()\n",
        "    \n",
        "if __name__ == '__main__':\n",
        "    main()"
      ]
    },
    {
      "cell_type": "code",
      "execution_count": 93,
      "metadata": {},
      "outputs": [
        {
          "name": "stdout",
          "output_type": "stream",
          "text": [
            "\n",
            "[['e', 's', ' ', 'y', ''], ['s', ' ', 'y', 'a', ''], [' ', 'y', 'a', ' ', '']]\n",
            "\n"
          ]
        }
      ],
      "source": [
        "from traceback import print_list\n",
        "\n",
        "# declaring\n",
        "decodedString: str = ''\n",
        "numberOfRows: int = 3\n",
        "encodedString: str = 'mnes__ya_____mi'\n",
        "\n",
        "# processing\n",
        "encoded_with_spaces: str = encodedString.replace('_', ' ').split()  # ['mnes', 'ya', 'mi']\n",
        "encodedString: str = ' '.join(encoded_with_spaces)\n",
        "\n",
        "columns: int = int(round(len(encodedString.replace('_', ' ')), 2) / 2)\n",
        "\n",
        "# generating the matrix\n",
        "matrix: list[list[str]] = [['' for x in range(columns)] for y in range(numberOfRows)] \n",
        "\n",
        "# filling the matrix\n",
        "for i in range(numberOfRows):\n",
        "    for j in range(columns):\n",
        "        if encodedString[j].isspace():\n",
        "            break\n",
        "        \n",
        "        if i <= numberOfRows - 1:       \n",
        "            if j <= columns - 1:\n",
        "                matrix[i][j] = encodedString[(i + 1) + (j + 1)]\n",
        "                encodedString.replace(matrix[i][j], '')\n",
        "                \n",
        "            else: break\n",
        "            \n",
        "        else: break\n",
        "\n",
        "            \n",
        "            \n",
        "                \n",
        "        \n",
        "print(f'\\n{matrix}')\n",
        "print(decodedString.replace('_', ' '))"
      ]
    },
    {
      "cell_type": "code",
      "execution_count": 26,
      "metadata": {},
      "outputs": [
        {
          "name": "stdout",
          "output_type": "stream",
          "text": [
            "The encoded string in base64 format is : b'my name is'\n",
            "b'my name is'\n",
            "The decoded string is : \n",
            "my name is\n"
          ]
        }
      ],
      "source": [
        "# initializing string  \n",
        "str = \"my name is\"\n",
        "    \n",
        "# encoding string  \n",
        "str_enc = str.encode(encoding='utf-8', errors='strict') \n",
        "    \n",
        "# printing the encoded string \n",
        "print (f\"The encoded string in base64 format is : {str_enc}\") \n",
        "    \n",
        "# printing the original decoded string  \n",
        "print (\"The decoded string is : \",) \n",
        "print (str_enc.decode('utf8', 'strict'))"
      ]
    },
    {
      "cell_type": "markdown",
      "metadata": {},
      "source": [
        "Alex: (3 + 7 + 4 + 2) - 5 = 11\n",
        "Blake: (5) - (3) = 2\n",
        "Casey: 0 - 7 - 4 - 2 = -13\n",
        "\n",
        "Retornar apenas a Casey"
      ]
    },
    {
      "cell_type": "code",
      "execution_count": 142,
      "metadata": {},
      "outputs": [
        {
          "name": "stdout",
          "output_type": "stream",
          "text": [
            "Nobody has a negative balance\n"
          ]
        }
      ],
      "source": [
        "# debts = [['Alex', 'Blake', '5'], ['Blake', 'Alex', '3'], ['Casey', 'Alex', '7'], ['Casey', 'Alex', '4'], ['Casey', 'Alex', '2']]\n",
        "debts = [['Alex', 'Blake', '6'], ['Blake', 'Alex', '6']]\n",
        "\n",
        "def solve():\n",
        "    values: dict = {}\n",
        "    indebted: list = []\n",
        "    \n",
        "    for i in range(len(debts)):\n",
        "        for j in range(2):\n",
        "            if debts[i][j] not in values.keys():\n",
        "                values.update({debts[i][j]: 0})\n",
        "                \n",
        "    for i in range(len(debts)):\n",
        "        for j in range(2):\n",
        "            if debts[i][j] in values.keys():\n",
        "\n",
        "                values[debts[i][1]] += (int(debts[i][2]) / 2) \n",
        "                values[debts[i][0]] -= (int(debts[i][2]) / 2)          \n",
        "                     \n",
        "    for i in values.keys():\n",
        "        if values[i] < 0:\n",
        "            indebted.append(i)\n",
        "                    \n",
        "                \n",
        "    if len(indebted) == 0:\n",
        "        return 'Nobody has a negative balance'\n",
        "\n",
        "    else:\n",
        "        return sorted(indebted)\n",
        "    \n",
        "def main():\n",
        "    result = solve()\n",
        "    \n",
        "    print(result)\n",
        "        \n",
        "    \n",
        "if __name__ == '__main__':\n",
        "    main()    \n",
        "    "
      ]
    },
    {
      "cell_type": "code",
      "execution_count": null,
      "metadata": {},
      "outputs": [],
      "source": []
    }
  ],
  "metadata": {
    "colab": {
      "collapsed_sections": [],
      "include_colab_link": true,
      "provenance": []
    },
    "kernelspec": {
      "display_name": "Python 3.10.6 64-bit",
      "language": "python",
      "name": "python3"
    },
    "language_info": {
      "codemirror_mode": {
        "name": "ipython",
        "version": 3
      },
      "file_extension": ".py",
      "mimetype": "text/x-python",
      "name": "python",
      "nbconvert_exporter": "python",
      "pygments_lexer": "ipython3",
      "version": "3.10.6"
    },
    "vscode": {
      "interpreter": {
        "hash": "916dbcbb3f70747c44a77c7bcd40155683ae19c65e1c03b4aa3499c5328201f1"
      }
    }
  },
  "nbformat": 4,
  "nbformat_minor": 0
}
