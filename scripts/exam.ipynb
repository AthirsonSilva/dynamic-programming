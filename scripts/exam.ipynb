{
 "cells": [
  {
   "cell_type": "markdown",
   "metadata": {},
   "source": [
    "## Exam"
   ]
  },
  {
   "cell_type": "code",
   "execution_count": null,
   "metadata": {},
   "outputs": [
    {
     "name": "stdout",
     "output_type": "stream",
     "text": [
      "4 9\n",
      "5 27\n",
      "6 33\n"
     ]
    }
   ],
   "source": [
    "def main():\n",
    "    k: list[int] = [4, 5, 6]\n",
    "    n: list[int] = [9, 27, 33]\n",
    "    \n",
    "    for i in range(3):\n",
    "        print(k[i], n[i], solve(k[i], n[i]))\n",
    "    \n",
    "    \n",
    "def solve(k: int, n: int) -> int:\n",
    "    \n",
    "    \n",
    "    return int()\n",
    "    \n",
    "if __name__ == '__main__':\n",
    "    main()"
   ]
  },
  {
   "cell_type": "code",
   "execution_count": null,
   "metadata": {},
   "outputs": [
    {
     "name": "stdout",
     "output_type": "stream",
     "text": [
      "\n",
      "[['e', 's', ' ', 'y', ''], ['s', ' ', 'y', 'a', ''], [' ', 'y', 'a', ' ', '']]\n",
      "\n"
     ]
    }
   ],
   "source": [
    "from traceback import print_list\n",
    "\n",
    "# declaring\n",
    "decodedString: str = ''\n",
    "numberOfRows: int = 3\n",
    "encodedString: str = 'mnes__ya_____mi'\n",
    "\n",
    "# processing\n",
    "encoded_with_spaces: str = encodedString.replace('_', ' ').split()  # ['mnes', 'ya', 'mi']\n",
    "encodedString: str = ' '.join(encoded_with_spaces)\n",
    "\n",
    "columns: int = int(round(len(encodedString.replace('_', ' ')), 2) / 2)\n",
    "\n",
    "# generating the matrix\n",
    "matrix: list[list[str]] = [['' for x in range(columns)] for y in range(numberOfRows)] \n",
    "\n",
    "# filling the matrix\n",
    "for i in range(numberOfRows):\n",
    "    for j in range(columns):\n",
    "        if encodedString[j].isspace():\n",
    "            break\n",
    "        \n",
    "        if i <= numberOfRows - 1:       \n",
    "            if j <= columns - 1:\n",
    "                matrix[i][j] = encodedString[(i + 1) + (j + 1)]\n",
    "                encodedString.replace(matrix[i][j], '')\n",
    "                \n",
    "            else: break\n",
    "            \n",
    "        else: break\n",
    "\n",
    "            \n",
    "            \n",
    "                \n",
    "        \n",
    "print(f'\\n{matrix}')\n",
    "print(decodedString.replace('_', ' '))"
   ]
  },
  {
   "cell_type": "code",
   "execution_count": null,
   "metadata": {},
   "outputs": [
    {
     "name": "stdout",
     "output_type": "stream",
     "text": [
      "The encoded string in base64 format is : b'my name is'\n",
      "b'my name is'\n",
      "The decoded string is : \n",
      "my name is\n"
     ]
    }
   ],
   "source": [
    "# initializing string  \n",
    "str = \"my name is\"\n",
    "    \n",
    "# encoding string  \n",
    "str_enc = str.encode(encoding='utf-8', errors='strict') \n",
    "    \n",
    "# printing the encoded string \n",
    "print (f\"The encoded string in base64 format is : {str_enc}\") \n",
    "    \n",
    "# printing the original decoded string  \n",
    "print (\"The decoded string is : \",) \n",
    "print (str_enc.decode('utf8', 'strict'))"
   ]
  },
  {
   "cell_type": "markdown",
   "metadata": {},
   "source": [
    "Alex: (3 + 7 + 4 + 2) - 5 = 11\n",
    "Blake: (5) - (3) = 2\n",
    "Casey: 0 - 7 - 4 - 2 = -13\n",
    "\n",
    "Retornar apenas a Casey"
   ]
  },
  {
   "cell_type": "code",
   "execution_count": null,
   "metadata": {},
   "outputs": [
    {
     "name": "stdout",
     "output_type": "stream",
     "text": [
      "Nobody has a negative balance\n"
     ]
    }
   ],
   "source": [
    "# debts = [['Alex', 'Blake', '5'], ['Blake', 'Alex', '3'], ['Casey', 'Alex', '7'], ['Casey', 'Alex', '4'], ['Casey', 'Alex', '2']]\n",
    "debts = [['Alex', 'Blake', '6'], ['Blake', 'Alex', '6']]\n",
    "\n",
    "def solve():\n",
    "    values: dict = {}\n",
    "    indebted: list = []\n",
    "    \n",
    "    for i in range(len(debts)):\n",
    "        for j in range(2):\n",
    "            if debts[i][j] not in values.keys():\n",
    "                values.update({debts[i][j]: 0})\n",
    "                \n",
    "    for i in range(len(debts)):\n",
    "        for j in range(2):\n",
    "            if debts[i][j] in values.keys():\n",
    "\n",
    "                values[debts[i][1]] += (int(debts[i][2]) / 2) \n",
    "                values[debts[i][0]] -= (int(debts[i][2]) / 2)          \n",
    "                     \n",
    "    for i in values.keys():\n",
    "        if values[i] < 0:\n",
    "            indebted.append(i)\n",
    "                    \n",
    "                \n",
    "    if len(indebted) == 0:\n",
    "        return 'Nobody has a negative balance'\n",
    "\n",
    "    else:\n",
    "        return sorted(indebted)\n",
    "    \n",
    "def main():\n",
    "    result = solve()\n",
    "    \n",
    "    print(result)\n",
    "        \n",
    "    \n",
    "if __name__ == '__main__':\n",
    "    main()    \n",
    "    "
   ]
  }
 ],
 "metadata": {
  "language_info": {
   "name": "python"
  },
  "orig_nbformat": 4
 },
 "nbformat": 4,
 "nbformat_minor": 2
}
